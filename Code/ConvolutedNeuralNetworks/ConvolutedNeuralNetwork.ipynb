{
 "cells": [
  {
   "cell_type": "markdown",
   "id": "d1a2b2e1",
   "metadata": {},
   "source": [
    "# Convolutional Neural Network"
   ]
  },
  {
   "cell_type": "markdown",
   "id": "21e730df",
   "metadata": {},
   "source": [
    "### Importing the Libraries"
   ]
  },
  {
   "cell_type": "code",
   "execution_count": 1,
   "id": "b37c28b5",
   "metadata": {},
   "outputs": [],
   "source": [
    "import tensorflow as tf\n",
    "from keras.preprocessing.image import ImageDataGenerator"
   ]
  },
  {
   "cell_type": "markdown",
   "id": "d4d1d2e1",
   "metadata": {},
   "source": [
    "## Data Preprocessing "
   ]
  },
  {
   "cell_type": "markdown",
   "id": "b1987b55",
   "metadata": {},
   "source": [
    "### Preprocessing the Training set "
   ]
  },
  {
   "cell_type": "code",
   "execution_count": 4,
   "id": "9c97145d",
   "metadata": {},
   "outputs": [
    {
     "name": "stdout",
     "output_type": "stream",
     "text": [
      "Found 8000 images belonging to 2 classes.\n"
     ]
    }
   ],
   "source": [
    "train_datagen = ImageDataGenerator(rescale=1./255,\n",
    "                                  shear_range=0.2,\n",
    "                                  zoom_range=0.2,\n",
    "                                  horizontal_flip=True)\n",
    "training_set = train_datagen.flow_from_directory('./dataset/training_set',\n",
    "                                                 target_size=(64, 64),\n",
    "                                                 batch_size=32,\n",
    "                                                 class_mode='binary')"
   ]
  },
  {
   "cell_type": "markdown",
   "id": "323235c5",
   "metadata": {},
   "source": [
    "### Preprocessing the Test set"
   ]
  },
  {
   "cell_type": "code",
   "execution_count": 6,
   "id": "2d8f9305",
   "metadata": {},
   "outputs": [
    {
     "name": "stdout",
     "output_type": "stream",
     "text": [
      "Found 2000 images belonging to 2 classes.\n"
     ]
    }
   ],
   "source": [
    "test_datagen = ImageDataGenerator(rescale=1./255)\n",
    "test_set = test_datagen.flow_from_directory('./dataset/test_set',\n",
    "                                                 target_size=(64, 64),\n",
    "                                                 batch_size=32,\n",
    "                                                 class_mode='binary')"
   ]
  },
  {
   "cell_type": "markdown",
   "id": "8cc8f48d",
   "metadata": {},
   "source": [
    "## Building the CNN"
   ]
  },
  {
   "cell_type": "markdown",
   "id": "6684a6b8",
   "metadata": {},
   "source": [
    "### Initialising the CNN"
   ]
  },
  {
   "cell_type": "code",
   "execution_count": 7,
   "id": "54ddeef4",
   "metadata": {},
   "outputs": [],
   "source": [
    "cnn = tf.keras.models.Sequential()"
   ]
  },
  {
   "cell_type": "markdown",
   "id": "231aae56",
   "metadata": {},
   "source": [
    "### Covolution"
   ]
  },
  {
   "cell_type": "code",
   "execution_count": 8,
   "id": "28b1adec",
   "metadata": {},
   "outputs": [],
   "source": [
    "cnn.add(tf.keras.layers.Conv2D(filters=32, kernel_size=3, activation='relu', input_shape=[64,64,3]))"
   ]
  },
  {
   "cell_type": "markdown",
   "id": "38f1ec22",
   "metadata": {},
   "source": [
    "### Pooling"
   ]
  },
  {
   "cell_type": "code",
   "execution_count": 9,
   "id": "e692c74c",
   "metadata": {},
   "outputs": [],
   "source": [
    "cnn.add(tf.keras.layers.MaxPool2D(pool_size=(2,2), strides=2))"
   ]
  },
  {
   "cell_type": "markdown",
   "id": "e7818502",
   "metadata": {},
   "source": [
    "### Adding a second convolutional layer"
   ]
  },
  {
   "cell_type": "code",
   "execution_count": 10,
   "id": "e8724174",
   "metadata": {},
   "outputs": [],
   "source": [
    "cnn.add(tf.keras.layers.Conv2D(filters=32, kernel_size=3, activation='relu', input_shape=[64,64,3]))\n",
    "cnn.add(tf.keras.layers.MaxPool2D(pool_size=(2,2), strides=2))"
   ]
  },
  {
   "cell_type": "markdown",
   "id": "558955cb",
   "metadata": {},
   "source": [
    "### Flattening "
   ]
  },
  {
   "cell_type": "code",
   "execution_count": 12,
   "id": "54e347bd",
   "metadata": {},
   "outputs": [],
   "source": [
    "cnn.add(tf.keras.layers.Flatten())"
   ]
  },
  {
   "cell_type": "markdown",
   "id": "8c59a61f",
   "metadata": {},
   "source": [
    "### Full Connection"
   ]
  },
  {
   "cell_type": "code",
   "execution_count": 13,
   "id": "aef432ee",
   "metadata": {},
   "outputs": [],
   "source": [
    "cnn.add(tf.keras.layers.Dense(128, activation='relu'))"
   ]
  },
  {
   "cell_type": "markdown",
   "id": "c7ff039c",
   "metadata": {},
   "source": [
    "### Output Layer "
   ]
  },
  {
   "cell_type": "code",
   "execution_count": 14,
   "id": "ae0c5f27",
   "metadata": {},
   "outputs": [],
   "source": [
    "cnn.add(tf.keras.layers.Dense(1, activation='sigmoid'))"
   ]
  },
  {
   "cell_type": "markdown",
   "id": "53cd406a",
   "metadata": {},
   "source": [
    "## Training the CNN "
   ]
  },
  {
   "cell_type": "markdown",
   "id": "17cc92d5",
   "metadata": {},
   "source": [
    "### Compiling the CNN "
   ]
  },
  {
   "cell_type": "code",
   "execution_count": 15,
   "id": "09ce348d",
   "metadata": {},
   "outputs": [],
   "source": [
    "cnn.compile(optimizer = 'adam', loss = 'binary_crossentropy', metrics = ['accuracy'])"
   ]
  },
  {
   "cell_type": "markdown",
   "id": "9f00bb08",
   "metadata": {},
   "source": [
    "### Training the CNN on the Training set and evaluating the Test set "
   ]
  },
  {
   "cell_type": "code",
   "execution_count": 16,
   "id": "d35d861e",
   "metadata": {},
   "outputs": [
    {
     "name": "stdout",
     "output_type": "stream",
     "text": [
      "Epoch 1/25\n",
      "250/250 [==============================] - 118s 466ms/step - loss: 0.6872 - accuracy: 0.5676 - val_loss: 0.6429 - val_accuracy: 0.6315\n",
      "Epoch 2/25\n",
      "250/250 [==============================] - 36s 145ms/step - loss: 0.6374 - accuracy: 0.6405 - val_loss: 0.6068 - val_accuracy: 0.6775\n",
      "Epoch 3/25\n",
      "250/250 [==============================] - 34s 134ms/step - loss: 0.5907 - accuracy: 0.6851 - val_loss: 0.6022 - val_accuracy: 0.6740\n",
      "Epoch 4/25\n",
      "250/250 [==============================] - 41s 165ms/step - loss: 0.5682 - accuracy: 0.7069 - val_loss: 0.5399 - val_accuracy: 0.7285\n",
      "Epoch 5/25\n",
      "250/250 [==============================] - 38s 150ms/step - loss: 0.5271 - accuracy: 0.7347 - val_loss: 0.5618 - val_accuracy: 0.7110\n",
      "Epoch 6/25\n",
      "250/250 [==============================] - 34s 135ms/step - loss: 0.4981 - accuracy: 0.7550 - val_loss: 0.5383 - val_accuracy: 0.7455\n",
      "Epoch 7/25\n",
      "250/250 [==============================] - 34s 135ms/step - loss: 0.4842 - accuracy: 0.7696 - val_loss: 0.5226 - val_accuracy: 0.7390\n",
      "Epoch 8/25\n",
      "250/250 [==============================] - 35s 139ms/step - loss: 0.4695 - accuracy: 0.7765 - val_loss: 0.5196 - val_accuracy: 0.7450\n",
      "Epoch 9/25\n",
      "250/250 [==============================] - 46s 183ms/step - loss: 0.4413 - accuracy: 0.7881 - val_loss: 0.5041 - val_accuracy: 0.7750\n",
      "Epoch 10/25\n",
      "250/250 [==============================] - 42s 168ms/step - loss: 0.4282 - accuracy: 0.8005 - val_loss: 0.5214 - val_accuracy: 0.7585\n",
      "Epoch 11/25\n",
      "250/250 [==============================] - 49s 195ms/step - loss: 0.4029 - accuracy: 0.8115 - val_loss: 0.5037 - val_accuracy: 0.7725\n",
      "Epoch 12/25\n",
      "250/250 [==============================] - 43s 170ms/step - loss: 0.3886 - accuracy: 0.8263 - val_loss: 0.5474 - val_accuracy: 0.7400\n",
      "Epoch 13/25\n",
      "250/250 [==============================] - 41s 164ms/step - loss: 0.3712 - accuracy: 0.8341 - val_loss: 0.5415 - val_accuracy: 0.7675\n",
      "Epoch 14/25\n",
      "250/250 [==============================] - 41s 165ms/step - loss: 0.3474 - accuracy: 0.8446 - val_loss: 0.5733 - val_accuracy: 0.7470\n",
      "Epoch 15/25\n",
      "250/250 [==============================] - 43s 171ms/step - loss: 0.3305 - accuracy: 0.8545 - val_loss: 0.5379 - val_accuracy: 0.7725\n",
      "Epoch 16/25\n",
      "250/250 [==============================] - 44s 176ms/step - loss: 0.3062 - accuracy: 0.8659 - val_loss: 0.6182 - val_accuracy: 0.7580\n",
      "Epoch 17/25\n",
      "250/250 [==============================] - 47s 187ms/step - loss: 0.2925 - accuracy: 0.8766 - val_loss: 0.5363 - val_accuracy: 0.7780\n",
      "Epoch 18/25\n",
      "250/250 [==============================] - 42s 169ms/step - loss: 0.2690 - accuracy: 0.8829 - val_loss: 0.5989 - val_accuracy: 0.7925\n",
      "Epoch 19/25\n",
      "250/250 [==============================] - 43s 171ms/step - loss: 0.2537 - accuracy: 0.8930 - val_loss: 0.6521 - val_accuracy: 0.7510\n",
      "Epoch 20/25\n",
      "250/250 [==============================] - 42s 169ms/step - loss: 0.2426 - accuracy: 0.8969 - val_loss: 0.5830 - val_accuracy: 0.7725\n",
      "Epoch 21/25\n",
      "250/250 [==============================] - 41s 165ms/step - loss: 0.2393 - accuracy: 0.9010 - val_loss: 0.6018 - val_accuracy: 0.7810\n",
      "Epoch 22/25\n",
      "250/250 [==============================] - 42s 167ms/step - loss: 0.2052 - accuracy: 0.9175 - val_loss: 0.6711 - val_accuracy: 0.7695\n",
      "Epoch 23/25\n",
      "250/250 [==============================] - 41s 166ms/step - loss: 0.1926 - accuracy: 0.9235 - val_loss: 0.6910 - val_accuracy: 0.7755\n",
      "Epoch 24/25\n",
      "250/250 [==============================] - 40s 161ms/step - loss: 0.1889 - accuracy: 0.9252 - val_loss: 0.6930 - val_accuracy: 0.7815\n",
      "Epoch 25/25\n",
      "250/250 [==============================] - 41s 165ms/step - loss: 0.1812 - accuracy: 0.9294 - val_loss: 0.6977 - val_accuracy: 0.7800\n"
     ]
    },
    {
     "data": {
      "text/plain": [
       "<keras.src.callbacks.History at 0x238ff28a590>"
      ]
     },
     "execution_count": 16,
     "metadata": {},
     "output_type": "execute_result"
    }
   ],
   "source": [
    "cnn.fit(x = training_set, validation_data = test_set, epochs = 25)"
   ]
  }
 ],
 "metadata": {
  "kernelspec": {
   "display_name": "Python 3 (ipykernel)",
   "language": "python",
   "name": "python3"
  },
  "language_info": {
   "codemirror_mode": {
    "name": "ipython",
    "version": 3
   },
   "file_extension": ".py",
   "mimetype": "text/x-python",
   "name": "python",
   "nbconvert_exporter": "python",
   "pygments_lexer": "ipython3",
   "version": "3.11.4"
  },
  "varInspector": {
   "cols": {
    "lenName": 16,
    "lenType": 16,
    "lenVar": 40
   },
   "kernels_config": {
    "python": {
     "delete_cmd_postfix": "",
     "delete_cmd_prefix": "del ",
     "library": "var_list.py",
     "varRefreshCmd": "print(var_dic_list())"
    },
    "r": {
     "delete_cmd_postfix": ") ",
     "delete_cmd_prefix": "rm(",
     "library": "var_list.r",
     "varRefreshCmd": "cat(var_dic_list()) "
    }
   },
   "types_to_exclude": [
    "module",
    "function",
    "builtin_function_or_method",
    "instance",
    "_Feature"
   ],
   "window_display": false
  }
 },
 "nbformat": 4,
 "nbformat_minor": 5
}
